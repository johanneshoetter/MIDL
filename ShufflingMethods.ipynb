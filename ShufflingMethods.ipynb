{
 "cells": [
  {
   "cell_type": "markdown",
   "metadata": {},
   "source": [
    "# Shuffling Methods"
   ]
  },
  {
   "cell_type": "markdown",
   "metadata": {},
   "source": [
    "test cases"
   ]
  },
  {
   "cell_type": "code",
   "execution_count": 22,
   "metadata": {},
   "outputs": [],
   "source": [
    "test_inputs = ['abc', 'def', 'egh', 'ijk', 'lmn', 'opq', 'rst', 'ade', 'des', 'asd']\n",
    "test_targets = [1, 2, 1, 3, 2, 1, 2, 3, 4, 3]\n",
    "expected_output = [\n",
    "    ('abc', 1),\n",
    "    ('egh', 1),\n",
    "    ('opq', 1),\n",
    "    ('def', 2),\n",
    "    ('lmn', 2),\n",
    "    ('rst', 2),\n",
    "    ('ijk', 3),\n",
    "    ('ade', 3),\n",
    "    ('asd', 3),\n",
    "    ('des', 4)\n",
    "]"
   ]
  },
  {
   "cell_type": "markdown",
   "metadata": {},
   "source": [
    "implementation"
   ]
  },
  {
   "cell_type": "markdown",
   "metadata": {},
   "source": [
    "ideas for shuffle one class:\n",
    "- sort the list by class, take as many pairs for the batches as possible\n",
    "- build a dictionary with the classes and take batches from them"
   ]
  },
  {
   "cell_type": "code",
   "execution_count": 23,
   "metadata": {},
   "outputs": [],
   "source": [
    "def shuffle_one_class(inputs, targets, batch_size=64):\n",
    "    \n",
    "    assert len(inputs) == len(targets), 'Inputs and targets do not have the same size'\n",
    "    ### idea:\n",
    "    # sort the input/target pairs, so that given a batch size the pairs can automatically be extracted\n",
    "    # if one series is to small for a batch, fill it with the other missing ones\n",
    "    # i.e. first create all fitting batches, then fill up missing ones\n",
    "    new_idxs = [idx for idx, target in sorted(list(enumerate(targets)), key=lambda x: x[1])]\n",
    "    sorted_inputs, sorted_targets = [inputs[idx] for idx in new_idxs], [targets[idx] for idx in new_idxs]\n",
    "    \n",
    "    # --> run over sorted inputs\n",
    "    \n",
    "    \n",
    "    return sorted_inputs, sorted_targets\n",
    "    \n",
    "actual_output = list(zip(*shuffle_one_class(test_inputs, test_targets)))\n",
    "assert actual_output == expected_output, 'Actual and expected outputs differ!'"
   ]
  },
  {
   "cell_type": "code",
   "execution_count": 4,
   "metadata": {},
   "outputs": [],
   "source": [
    "def shuffle_all_classes(inputs, targets):\n",
    "    pass"
   ]
  },
  {
   "cell_type": "markdown",
   "metadata": {},
   "source": [
    "---"
   ]
  },
  {
   "cell_type": "markdown",
   "metadata": {},
   "source": [
    "test on real data"
   ]
  },
  {
   "cell_type": "code",
   "execution_count": null,
   "metadata": {},
   "outputs": [],
   "source": [
    "from utils.data_utils import DataLoader\n",
    "dataloader = DataLoader(batch_sizes={'train': 64, 'test': 64}, shuffle={'train': False, 'test': False})\n",
    "dataloader.download_cifar()\n",
    "trainloader, testloader = dataloader.get_loaders()\n",
    "\n",
    "for batch_idx, (inputs, targets) in enumerate(testloader):\n",
    "    _inputs = inputs\n",
    "    _targets = targets\n",
    "    break"
   ]
  }
 ],
 "metadata": {
  "kernelspec": {
   "display_name": "Python 3",
   "language": "python",
   "name": "python3"
  },
  "language_info": {
   "codemirror_mode": {
    "name": "ipython",
    "version": 3
   },
   "file_extension": ".py",
   "mimetype": "text/x-python",
   "name": "python",
   "nbconvert_exporter": "python",
   "pygments_lexer": "ipython3",
   "version": "3.7.5"
  }
 },
 "nbformat": 4,
 "nbformat_minor": 2
}
