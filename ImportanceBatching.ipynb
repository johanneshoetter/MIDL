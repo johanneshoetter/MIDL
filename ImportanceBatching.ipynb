{
 "cells": [
  {
   "cell_type": "markdown",
   "metadata": {},
   "source": [
    "# Machine Intelligence with Deep Learning\n",
    "## Sampling Batches by Importance\n",
    "---"
   ]
  },
  {
   "cell_type": "code",
   "execution_count": 1,
   "metadata": {},
   "outputs": [],
   "source": [
    "from models.resnet import ResNet18\n",
    "from utils.data_utils import DataLoader\n",
    "\n",
    "import torch\n",
    "import torch.nn as nn\n",
    "import torch.optim as optim\n",
    "import torch.nn.functional as F\n",
    "import torch.backends.cudnn as cudnn\n",
    "\n",
    "import os"
   ]
  },
  {
   "cell_type": "code",
   "execution_count": 2,
   "metadata": {},
   "outputs": [
    {
     "name": "stdout",
     "output_type": "stream",
     "text": [
      "==> Loading data..\n",
      "==> Preparing data..\n",
      "Files already downloaded and verified\n",
      "Files already downloaded and verified\n",
      "==> Building model..\n"
     ]
    }
   ],
   "source": [
    "### task: classification of the following classes\n",
    "classes = ['plane', 'car', 'bird', 'cat', 'deer', 'dog', 'frog', 'horse', 'ship', 'truck']\n",
    "\n",
    "### load the data\n",
    "# if needed, specify batch sizes and shuffle settings\n",
    "print('==> Loading data..')\n",
    "dataloader = DataLoader()\n",
    "dataloader.download_cifar()\n",
    "trainloader, testloader = dataloader.get_loaders()\n",
    "\n",
    "### Model\n",
    "print('==> Building model..')\n",
    "net = ResNet18()\n",
    "device = 'cuda' if torch.cuda.is_available() else 'cpu'\n",
    "net = net.to(device)\n",
    "if device == 'cuda':\n",
    "    net.to(device)\n",
    "    \n",
    "### hyperparameters\n",
    "best_acc = 0  # best test accuracy\n",
    "start_epoch = 0  # start from epoch 0 or last checkpoint epoch\n",
    "num_epochs = 5 # number of iterations the model gets trained\n",
    "learning_rate = 1e-4 # factor for weight updates\n",
    "momentum = 0.9\n",
    "weight_decay = 5e-4\n",
    "criterion = nn.CrossEntropyLoss()\n",
    "optimizer = optim.SGD(net.parameters(), lr=learning_rate, momentum=momentum, weight_decay=weight_decay)\n",
    "resume = False\n",
    "\n",
    "if resume:\n",
    "    print('==> Resuming from checkpoint..')\n",
    "    assert os.path.isdir('serialized'), 'Error: no serialized directory found!'\n",
    "    ckpt = torch.load('./serialized/ckpt.pth')\n",
    "    best_acc, start_epoch, net = net.load(ckpt)\n",
    "\n",
    "### Training\n",
    "def train(epoch):\n",
    "    print('\\nEpoch: %d' % epoch)\n",
    "    net.train()\n",
    "    train_loss = 0\n",
    "    correct = 0\n",
    "    total = 0\n",
    "    for batch_idx, (inputs, targets) in enumerate(trainloader):\n",
    "        inputs, targets = inputs.to(device), targets.to(device)\n",
    "        optimizer.zero_grad()\n",
    "        outputs = net(inputs)\n",
    "        loss = criterion(outputs, targets)\n",
    "        loss.backward()\n",
    "        optimizer.step()\n",
    "\n",
    "        train_loss += loss.item()\n",
    "        _, predicted = outputs.max(1)\n",
    "        total += targets.size(0)\n",
    "        correct += predicted.eq(targets).sum().item()\n",
    "\n",
    "### Testing\n",
    "def test(epoch, best_acc):\n",
    "    net.eval()\n",
    "    test_loss = 0\n",
    "    correct = 0\n",
    "    total = 0\n",
    "    with torch.no_grad():\n",
    "        for batch_idx, (inputs, targets) in enumerate(testloader):\n",
    "            inputs, targets = inputs.to(device), targets.to(device)\n",
    "            outputs = net(inputs)\n",
    "            loss = criterion(outputs, targets)\n",
    "\n",
    "            test_loss += loss.item()\n",
    "            _, predicted = outputs.max(1)\n",
    "            total += targets.size(0)\n",
    "            correct += predicted.eq(targets).sum().item()\n",
    "\n",
    "    # Save checkpoint.\n",
    "    acc = 100.*correct/total\n",
    "    print(acc)\n",
    "    if acc > best_acc:\n",
    "        print(\"==> Saving to checkpoint..\")\n",
    "        net.save(acc, epoch)\n",
    "    return best_acc"
   ]
  },
  {
   "cell_type": "code",
   "execution_count": 3,
   "metadata": {},
   "outputs": [
    {
     "name": "stdout",
     "output_type": "stream",
     "text": [
      "\n",
      "Epoch: 0\n",
      "32.5\n",
      "==> Saving to checkpoint..\n",
      "\n",
      "Epoch: 1\n",
      "38.84\n",
      "==> Saving to checkpoint..\n",
      "\n",
      "Epoch: 2\n",
      "44.2\n",
      "==> Saving to checkpoint..\n",
      "\n",
      "Epoch: 3\n",
      "46.88\n",
      "==> Saving to checkpoint..\n",
      "\n",
      "Epoch: 4\n",
      "49.92\n",
      "==> Saving to checkpoint..\n"
     ]
    }
   ],
   "source": [
    "for epoch in range(start_epoch, start_epoch+num_epochs):\n",
    "    train(epoch)\n",
    "    best_acc = test(epoch, best_acc)"
   ]
  }
 ],
 "metadata": {
  "kernelspec": {
   "display_name": "Python 3",
   "language": "python",
   "name": "python3"
  },
  "language_info": {
   "codemirror_mode": {
    "name": "ipython",
    "version": 3
   },
   "file_extension": ".py",
   "mimetype": "text/x-python",
   "name": "python",
   "nbconvert_exporter": "python",
   "pygments_lexer": "ipython3",
   "version": "3.7.5"
  }
 },
 "nbformat": 4,
 "nbformat_minor": 2
}
