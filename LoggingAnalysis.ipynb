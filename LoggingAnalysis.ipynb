{
 "cells": [
  {
   "cell_type": "code",
   "execution_count": 1,
   "metadata": {},
   "outputs": [],
   "source": [
    "import pandas as pd\n",
    "import matplotlib.pyplot as plt\n",
    "import os\n",
    "from datetime import datetime\n",
    "today = datetime.today().strftime('%Y%m%d')"
   ]
  },
  {
   "cell_type": "code",
   "execution_count": 2,
   "metadata": {},
   "outputs": [
    {
     "data": {
      "text/html": [
       "<div>\n",
       "<style scoped>\n",
       "    .dataframe tbody tr th:only-of-type {\n",
       "        vertical-align: middle;\n",
       "    }\n",
       "\n",
       "    .dataframe tbody tr th {\n",
       "        vertical-align: top;\n",
       "    }\n",
       "\n",
       "    .dataframe thead th {\n",
       "        text-align: right;\n",
       "    }\n",
       "</style>\n",
       "<table border=\"1\" class=\"dataframe\">\n",
       "  <thead>\n",
       "    <tr style=\"text-align: right;\">\n",
       "      <th></th>\n",
       "      <th>index</th>\n",
       "      <th>epoch</th>\n",
       "      <th>seed</th>\n",
       "      <th>train</th>\n",
       "      <th>strategy</th>\n",
       "      <th>accuracy</th>\n",
       "      <th>loss</th>\n",
       "    </tr>\n",
       "  </thead>\n",
       "  <tbody>\n",
       "    <tr>\n",
       "      <th>0</th>\n",
       "      <td>0</td>\n",
       "      <td>1</td>\n",
       "      <td>10</td>\n",
       "      <td>True</td>\n",
       "      <td>freeze</td>\n",
       "      <td>46.922</td>\n",
       "      <td>0.022765</td>\n",
       "    </tr>\n",
       "    <tr>\n",
       "      <th>1</th>\n",
       "      <td>1</td>\n",
       "      <td>1</td>\n",
       "      <td>10</td>\n",
       "      <td>False</td>\n",
       "      <td>freeze</td>\n",
       "      <td>59.350</td>\n",
       "      <td>0.018236</td>\n",
       "    </tr>\n",
       "    <tr>\n",
       "      <th>2</th>\n",
       "      <td>2</td>\n",
       "      <td>2</td>\n",
       "      <td>10</td>\n",
       "      <td>True</td>\n",
       "      <td>freeze</td>\n",
       "      <td>68.006</td>\n",
       "      <td>0.014055</td>\n",
       "    </tr>\n",
       "    <tr>\n",
       "      <th>3</th>\n",
       "      <td>3</td>\n",
       "      <td>2</td>\n",
       "      <td>10</td>\n",
       "      <td>False</td>\n",
       "      <td>freeze</td>\n",
       "      <td>71.570</td>\n",
       "      <td>0.012942</td>\n",
       "    </tr>\n",
       "    <tr>\n",
       "      <th>4</th>\n",
       "      <td>4</td>\n",
       "      <td>3</td>\n",
       "      <td>10</td>\n",
       "      <td>True</td>\n",
       "      <td>freeze</td>\n",
       "      <td>77.188</td>\n",
       "      <td>0.010228</td>\n",
       "    </tr>\n",
       "  </tbody>\n",
       "</table>\n",
       "</div>"
      ],
      "text/plain": [
       "   index  epoch  seed  train strategy  accuracy      loss\n",
       "0      0      1    10   True   freeze    46.922  0.022765\n",
       "1      1      1    10  False   freeze    59.350  0.018236\n",
       "2      2      2    10   True   freeze    68.006  0.014055\n",
       "3      3      2    10  False   freeze    71.570  0.012942\n",
       "4      4      3    10   True   freeze    77.188  0.010228"
      ]
     },
     "execution_count": 2,
     "metadata": {},
     "output_type": "execute_result"
    }
   ],
   "source": [
    "training_logs_dir = 'evaluation_logs'\n",
    "watch_dates = ['20200106', '20200123', '20200124', '20200125', '20200129', '20200214']#]#['20191118', '20191218']\n",
    "contents = [] \n",
    "for watch_date in watch_dates:\n",
    "    contents.append(pd.read_csv('{}.txt'.format(os.path.join(training_logs_dir, watch_date)), sep='\\t'))\n",
    "logs_df = pd.concat(contents, axis=0).reset_index()\n",
    "logs_df.head()"
   ]
  },
  {
   "cell_type": "code",
   "execution_count": 4,
   "metadata": {},
   "outputs": [],
   "source": [
    "style_args = {\n",
    "    'linestyle' : {\n",
    "        'train': '-',\n",
    "        'test': '--'\n",
    "    },\n",
    "    'colors': {\n",
    "        'freeze': '#B61616',\n",
    "        'shuffle': '#5AB616',\n",
    "        'homogeneous': '#26A4C1',\n",
    "        'heterogeneous': '#3626C1',\n",
    "        'max_k_loss': '#ECAA1D',\n",
    "        'min_k_loss': '#EC2CDB',\n",
    "        'heterogeneous_max_k_loss': '#EC8E1D',\n",
    "        'heterogeneous_min_k_loss': '#6BEC1D',\n",
    "        'no_update_max_k_loss': '#1D49EC',\n",
    "        'no_update_min_k_loss': '#A71DEC',\n",
    "        'no_update_heterogeneous_max_k_loss': '#EC1D49',\n",
    "        'no_update_heterogeneous_min_k_loss': '#1DECEC',\n",
    "        'testupdate_max_k_loss': '#222AAA',\n",
    "        'weighted_random_sampling': '#111EEE'\n",
    "    }\n",
    "}"
   ]
  },
  {
   "cell_type": "markdown",
   "metadata": {},
   "source": [
    "---"
   ]
  },
  {
   "cell_type": "code",
   "execution_count": 5,
   "metadata": {},
   "outputs": [],
   "source": [
    "def summarize(df, is_train, strategy, get_acc=True):\n",
    "    '''\n",
    "    @df = dataframe with the training/testing logs (epoch, seed, train, shuffle, accuracy, loss)\n",
    "    @is_train = boolean whether to look at training logs\n",
    "    @is_shuffle = boolean whether the data is shuffled\n",
    "    @get_acc = boolean whether to get the accuracy or the loss\n",
    "    '''\n",
    "    subset_df = df[['epoch', 'accuracy', 'loss']].loc[(logs_df['train'] == is_train) & (logs_df['strategy'] == strategy)]\n",
    "    grouped_df = subset_df.groupby('epoch')\n",
    "    if get_acc:\n",
    "        return {'mean': grouped_df.mean().values.T[0], 'max': grouped_df.max().values.T[0], 'min': grouped_df.min().values.T[0]}\n",
    "    else:\n",
    "        return {'mean': grouped_df.mean().values.T[1], 'max': grouped_df.max().values.T[1], 'min': grouped_df.min().values.T[1]}"
   ]
  },
  {
   "cell_type": "code",
   "execution_count": 6,
   "metadata": {},
   "outputs": [],
   "source": [
    "def metric_over_epochs(strategies, idx, get_acc=True, data_dir='figures'):\n",
    "    best_vals = {}\n",
    "    for is_train in [True, False]:\n",
    "        plt.close()\n",
    "        plt.figure(figsize=(12,12))\n",
    "        for strategy in strategies:\n",
    "            # data\n",
    "            metric_dict = summarize(logs_df, is_train, strategy, get_acc=get_acc)\n",
    "            \n",
    "            means = metric_dict['mean']\n",
    "            upper_shadow = metric_dict['max']\n",
    "            lower_shadow = metric_dict['min']\n",
    "            idxs = range(len(means))\n",
    "            \n",
    "            # graph settings\n",
    "            train_mode = 'train' if is_train else 'test'\n",
    "            name = '{}/{}'.format(train_mode, strategy)\n",
    "            best_vals[name] = max(means)\n",
    "            color = style_args['colors'][strategy]\n",
    "            linestyle = style_args['linestyle'][train_mode]\n",
    "\n",
    "            # plotting\n",
    "            plt.plot(idxs, means, label=name, color=color, linestyle=linestyle)\n",
    "            plt.fill_between(idxs, means, upper_shadow, color=color, linestyle=linestyle, alpha=0.5)\n",
    "            plt.fill_between(idxs, lower_shadow, means, color=color, linestyle=linestyle, alpha=0.5)\n",
    "\n",
    "        plt.title('Change of {} over iterations'.format('accuracy' if get_acc else 'loss'))\n",
    "        plt.xlabel('Iteration')\n",
    "        if get_acc:\n",
    "            plt.ylim(0, 100)\n",
    "        plt.ylabel('{}'.format('Accuracy' if get_acc else 'Loss'))\n",
    "        plt.legend(loc='lower right');\n",
    "        plt.savefig('{}/{}_{}_{}_{}.jpg'.format(data_dir, today, idx,\n",
    "                                             'accuracy' if get_acc else 'loss', \n",
    "                                             'train' if is_train else 'test'), format='jpg')\n",
    "        plt.close()\n",
    "        \n",
    "    print(\"Best values:\")\n",
    "    print(pd.Series(best_vals))"
   ]
  },
  {
   "cell_type": "code",
   "execution_count": 7,
   "metadata": {},
   "outputs": [
    {
     "name": "stdout",
     "output_type": "stream",
     "text": [
      "Best values:\n",
      "train/shuffle       99.470000\n",
      "train/max_k_loss    99.106667\n",
      "test/shuffle        84.550000\n",
      "test/max_k_loss     78.563333\n",
      "dtype: float64\n",
      "Best values:\n",
      "train/shuffle       0.022841\n",
      "train/max_k_loss    0.023573\n",
      "test/shuffle        0.019198\n",
      "test/max_k_loss     0.023783\n",
      "dtype: float64\n"
     ]
    }
   ],
   "source": [
    "strategy = 'max_k_loss'\n",
    "metric_over_epochs(['shuffle', strategy], strategy, get_acc=True)\n",
    "metric_over_epochs(['shuffle', strategy], strategy, get_acc=False)"
   ]
  },
  {
   "cell_type": "code",
   "execution_count": 8,
   "metadata": {},
   "outputs": [
    {
     "name": "stdout",
     "output_type": "stream",
     "text": [
      "Best values:\n",
      "train/shuffle                 99.470000\n",
      "train/no_update_max_k_loss    97.600000\n",
      "test/shuffle                  84.550000\n",
      "test/no_update_max_k_loss     78.386667\n",
      "dtype: float64\n",
      "Best values:\n",
      "train/shuffle                 0.022841\n",
      "train/no_update_max_k_loss    0.033080\n",
      "test/shuffle                  0.019198\n",
      "test/no_update_max_k_loss     0.034562\n",
      "dtype: float64\n"
     ]
    }
   ],
   "source": [
    "strategy = 'no_update_max_k_loss'\n",
    "metric_over_epochs(['shuffle', strategy], strategy, get_acc=True)\n",
    "metric_over_epochs(['shuffle', strategy], strategy, get_acc=False)"
   ]
  },
  {
   "cell_type": "code",
   "execution_count": 9,
   "metadata": {},
   "outputs": [
    {
     "name": "stdout",
     "output_type": "stream",
     "text": [
      "Best values:\n",
      "train/shuffle                  99.470000\n",
      "train/testupdate_max_k_loss    97.600000\n",
      "test/shuffle                   84.550000\n",
      "test/testupdate_max_k_loss     78.386667\n",
      "dtype: float64\n",
      "Best values:\n",
      "train/shuffle                  0.022841\n",
      "train/testupdate_max_k_loss    0.033080\n",
      "test/shuffle                   0.019198\n",
      "test/testupdate_max_k_loss     0.034562\n",
      "dtype: float64\n"
     ]
    }
   ],
   "source": [
    "strategy = 'testupdate_max_k_loss'\n",
    "metric_over_epochs(['shuffle', strategy], strategy, get_acc=True)\n",
    "metric_over_epochs(['shuffle', strategy], strategy, get_acc=False)"
   ]
  },
  {
   "cell_type": "code",
   "execution_count": 10,
   "metadata": {},
   "outputs": [
    {
     "name": "stdout",
     "output_type": "stream",
     "text": [
      "Best values:\n",
      "train/shuffle                     99.470000\n",
      "train/weighted_random_sampling    76.030000\n",
      "test/shuffle                      84.550000\n",
      "test/weighted_random_sampling     65.263333\n",
      "dtype: float64\n",
      "Best values:\n",
      "train/shuffle                     0.022841\n",
      "train/weighted_random_sampling    0.031875\n",
      "test/shuffle                      0.019198\n",
      "test/weighted_random_sampling     0.033065\n",
      "dtype: float64\n"
     ]
    }
   ],
   "source": [
    "strategy = 'weighted_random_sampling'\n",
    "metric_over_epochs(['shuffle', strategy], strategy, get_acc=True)\n",
    "metric_over_epochs(['shuffle', strategy], strategy, get_acc=False)"
   ]
  }
 ],
 "metadata": {
  "kernelspec": {
   "display_name": "Python 3",
   "language": "python",
   "name": "python3"
  },
  "language_info": {
   "codemirror_mode": {
    "name": "ipython",
    "version": 3
   },
   "file_extension": ".py",
   "mimetype": "text/x-python",
   "name": "python",
   "nbconvert_exporter": "python",
   "pygments_lexer": "ipython3",
   "version": "3.7.5"
  }
 },
 "nbformat": 4,
 "nbformat_minor": 2
}
